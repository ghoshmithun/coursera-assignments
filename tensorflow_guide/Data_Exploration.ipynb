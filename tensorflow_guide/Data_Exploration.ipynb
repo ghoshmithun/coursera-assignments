{
 "cells": [
  {
   "cell_type": "code",
   "execution_count": 1,
   "metadata": {},
   "outputs": [],
   "source": [
    "import pandas as pd\n",
    "import numpy as np\n",
    "import random \n",
    "from pprint import pprint as pp\n",
    "from time import time, sleep\n",
    "import multiprocessing as mp\n",
    "from multiprocessing import Process, Pipe\n",
    "from tqdm import tqdm\n",
    "\n",
    "import joblib\n",
    "\n",
    "\n",
    "from multiprocessing import Process, Pipe\n",
    "from sentence_transformers import SentenceTransformer\n",
    "from gensim.summarization.textcleaner import get_sentences\n",
    "import lightgbm as lgb\n",
    "from time import sleep\n",
    "BASE_SAGEMAKER_PATH = \"/Users/abanerjee4/Projects/Deploy/proto_1/abanerjee4/model\"\n",
    "import os\n",
    "dbert_path = os.path.join(BASE_SAGEMAKER_PATH,\"distilbert-base-nli-mean\")\n",
    "dbert = SentenceTransformer(dbert_path)"
   ]
  },
  {
   "cell_type": "code",
   "execution_count": 20,
   "metadata": {},
   "outputs": [],
   "source": [
    "test_df = pd.read_csv(\"./data/test.csv\")"
   ]
  },
  {
   "cell_type": "code",
   "execution_count": 5,
   "metadata": {},
   "outputs": [],
   "source": [
    "keu = pd.read_excel(\"./data/dashbotUtterances.xlsx\",sheet_name='keUtterances')[\"Text\"]\n",
    "fp = pd.read_excel(\"./data/dashbotUtterances.xlsx\",sheet_name='false positive') [\"where do i calculate estimated 2018 taxes\"]\n",
    "sh = pd.read_excel(\"./data/dashbotUtterances.xlsx\",sheet_name='Self Help') [\"how do I edit my email address\"]\n",
    "gtd = pd.read_excel(\"./data/dashbotUtterances.xlsx\",sheet_name='general test data') "
   ]
  },
  {
   "cell_type": "code",
   "execution_count": null,
   "metadata": {},
   "outputs": [],
   "source": []
  },
  {
   "cell_type": "code",
   "execution_count": 8,
   "metadata": {},
   "outputs": [],
   "source": [
    "train_pos = keu.to_list()\n",
    "flag = [1 for x in train_pos]\n",
    "train_neg = fp.to_list()+sh.to_list()\n",
    "flag = flag + [0 for x in train_neg]"
   ]
  },
  {
   "cell_type": "code",
   "execution_count": 13,
   "metadata": {},
   "outputs": [],
   "source": [
    "train_df = pd.DataFrame(columns=[\"Text\",\"KE\"])\n",
    "train_df[\"Text\"] = train_pos+train_neg\n",
    "train_df[\"KE\"] = flag\n",
    "#train_df.to_csv(\"./data/train.csv\",index=None)"
   ]
  },
  {
   "cell_type": "code",
   "execution_count": 12,
   "metadata": {},
   "outputs": [
    {
     "data": {
      "text/html": [
       "<div>\n",
       "<style scoped>\n",
       "    .dataframe tbody tr th:only-of-type {\n",
       "        vertical-align: middle;\n",
       "    }\n",
       "\n",
       "    .dataframe tbody tr th {\n",
       "        vertical-align: top;\n",
       "    }\n",
       "\n",
       "    .dataframe thead th {\n",
       "        text-align: right;\n",
       "    }\n",
       "</style>\n",
       "<table border=\"1\" class=\"dataframe\">\n",
       "  <thead>\n",
       "    <tr style=\"text-align: right;\">\n",
       "      <th></th>\n",
       "      <th>Text</th>\n",
       "      <th>KE</th>\n",
       "    </tr>\n",
       "  </thead>\n",
       "  <tbody>\n",
       "    <tr>\n",
       "      <th>68</th>\n",
       "      <td>state compute penalty box</td>\n",
       "      <td>0</td>\n",
       "    </tr>\n",
       "    <tr>\n",
       "      <th>22</th>\n",
       "      <td>Why is my filing status Single?</td>\n",
       "      <td>1</td>\n",
       "    </tr>\n",
       "    <tr>\n",
       "      <th>38</th>\n",
       "      <td>Do I owe self-employment tax</td>\n",
       "      <td>1</td>\n",
       "    </tr>\n",
       "    <tr>\n",
       "      <th>11</th>\n",
       "      <td>why do I owe &lt;amount&gt;</td>\n",
       "      <td>1</td>\n",
       "    </tr>\n",
       "    <tr>\n",
       "      <th>103</th>\n",
       "      <td>meal deduction</td>\n",
       "      <td>0</td>\n",
       "    </tr>\n",
       "  </tbody>\n",
       "</table>\n",
       "</div>"
      ],
      "text/plain": [
       "                                Text  KE\n",
       "68         state compute penalty box   0\n",
       "22   Why is my filing status Single?   1\n",
       "38      Do I owe self-employment tax   1\n",
       "11             why do I owe <amount>   1\n",
       "103                   meal deduction   0"
      ]
     },
     "execution_count": 12,
     "metadata": {},
     "output_type": "execute_result"
    }
   ],
   "source": [
    "train_df.sample(5)"
   ]
  },
  {
   "cell_type": "code",
   "execution_count": 804,
   "metadata": {},
   "outputs": [
    {
     "data": {
      "text/plain": [
       "180"
      ]
     },
     "execution_count": 804,
     "metadata": {},
     "output_type": "execute_result"
    }
   ],
   "source": [
    "len(train_df)"
   ]
  },
  {
   "cell_type": "code",
   "execution_count": null,
   "metadata": {},
   "outputs": [],
   "source": []
  },
  {
   "cell_type": "code",
   "execution_count": 15,
   "metadata": {},
   "outputs": [],
   "source": [
    "import re\n",
    "def putPlaceHolder(query):\n",
    "    #kw_list = [\"how did\", \"how to\"]\n",
    "    #convert $ amount to \"money\" for inducing genericity\n",
    "    query = re.sub(r\"[\\$]{1}[\\d,]+\\.?\\d{0,2}|<amount>\",\"money\",query)\n",
    "    #query = re.sub('|'.join(\"((?<=\\s)|(?<=^)){}((?=\\s)|(?=$))\".format(i) for i in kw_list),\"<kw>\",query)\n",
    "    return query"
   ]
  },
  {
   "cell_type": "code",
   "execution_count": null,
   "metadata": {},
   "outputs": [],
   "source": []
  },
  {
   "cell_type": "code",
   "execution_count": 18,
   "metadata": {},
   "outputs": [
    {
     "name": "stderr",
     "output_type": "stream",
     "text": [
      "Batches: 100%|██████████| 23/23 [00:01<00:00, 20.79it/s]\n"
     ]
    }
   ],
   "source": [
    "train_enc=dbert.encode(train_df[\"Text\"].apply(lambda x: putPlaceHolder(x.lower())).astype(str).tolist(), batch_size = 8, show_progress_bar=True)"
   ]
  },
  {
   "cell_type": "code",
   "execution_count": 21,
   "metadata": {},
   "outputs": [
    {
     "name": "stderr",
     "output_type": "stream",
     "text": [
      "Batches: 100%|██████████| 106/106 [00:03<00:00, 31.74it/s]\n"
     ]
    }
   ],
   "source": [
    "test_enc=dbert.encode(test_df[\"text\"].apply(lambda x: putPlaceHolder(x.lower())).astype(str).tolist(), batch_size = 8, show_progress_bar=True)"
   ]
  },
  {
   "cell_type": "code",
   "execution_count": 820,
   "metadata": {},
   "outputs": [
    {
     "data": {
      "text/plain": [
       "array([-3.37695867e-01,  1.03301741e-01,  8.52186859e-01, -4.45880443e-01,\n",
       "       -2.29933053e-01,  2.60718465e-01, -1.24143317e-01,  7.18120039e-01,\n",
       "       -4.58950326e-02, -8.57877851e-01, -1.81492880e-01,  5.21643400e-01,\n",
       "       -3.21515799e-02, -2.85080105e-01, -1.87429994e-01, -8.32997859e-01,\n",
       "       -9.43647981e-01, -1.71602756e-01, -1.49579242e-01,  2.27258801e-01,\n",
       "        1.56699032e-01,  5.64915657e-01,  8.15184116e-02,  5.09646535e-01,\n",
       "       -5.23710325e-02,  1.33923352e-01,  1.30547309e+00, -6.25983298e-01,\n",
       "       -8.91496763e-02,  3.15344214e-01,  2.30125710e-01, -6.96853876e-01,\n",
       "       -2.53456801e-01, -6.14856124e-01, -4.57295358e-01, -8.12553942e-01,\n",
       "        3.84595543e-02, -3.33569556e-01, -1.94906044e+00, -5.87516651e-02,\n",
       "        1.75586313e-01,  4.67338860e-01,  5.83586991e-01, -6.33449733e-01,\n",
       "        1.99175313e-01, -2.22305521e-01,  1.69995055e-01,  7.89812684e-01,\n",
       "       -3.54014188e-01, -7.00805485e-01, -1.24628127e+00, -5.07493675e-01,\n",
       "       -9.53433156e-01,  4.52079028e-01,  9.68645364e-02, -5.47641933e-01,\n",
       "       -6.58180714e-01,  3.24251175e-01, -4.20934349e-01,  3.12630415e-01,\n",
       "        4.20590818e-01, -1.53443918e-01,  5.84721684e-01,  3.04348916e-01,\n",
       "        5.29721260e-01,  4.45196092e-01,  4.47471678e-01,  3.34136397e-01,\n",
       "       -7.04586267e-01, -1.19043922e+00,  7.35078529e-02, -6.50921702e-01,\n",
       "        4.08979774e-01, -3.70802790e-01, -4.45790529e-01, -7.76683390e-01,\n",
       "       -2.48178050e-01, -1.83008835e-01, -2.21056744e-01, -1.40460476e-01,\n",
       "        2.97130287e-01,  4.14353341e-01, -1.39793360e+00, -6.44562781e-01,\n",
       "        3.80562067e-01, -6.08153582e-01,  3.46365452e-01,  7.21320748e-01,\n",
       "        7.59014964e-01,  2.74179012e-01,  1.90112621e-01,  5.76226488e-02,\n",
       "        2.65731454e-01,  1.04498923e-01, -2.42267609e-01,  5.44179916e-01,\n",
       "       -9.21304524e-02,  2.20919877e-01,  1.00798166e+00, -4.62760627e-01,\n",
       "       -7.00828910e-01, -4.30365831e-01, -5.35282671e-01,  2.26999328e-01,\n",
       "        1.06776245e-01,  4.60689574e-01, -4.80622798e-02,  5.08235276e-01,\n",
       "        3.04537416e-01,  5.61979473e-01,  2.57521927e-01, -2.10640222e-01,\n",
       "       -2.33156338e-01,  2.70564556e-01, -6.14658892e-01, -4.11814719e-01,\n",
       "        1.03147820e-01,  1.02097392e+00, -4.27691519e-01, -1.08501172e+00,\n",
       "       -5.28436542e-01,  1.79350376e+00, -3.78708571e-01, -9.01021123e-01,\n",
       "       -3.23173255e-01, -3.37176651e-01, -7.46792436e-01, -1.41539693e-01,\n",
       "       -8.85089993e-01, -5.20302176e-01,  5.11857271e-01,  2.00658992e-01,\n",
       "       -4.63494360e-01,  5.81822872e-01, -4.56630349e-01, -1.13453254e-01,\n",
       "        7.72616625e-01,  5.13454854e-01,  4.10875380e-01, -1.59584165e+00,\n",
       "        2.69787878e-01, -5.04338026e-01,  4.87955093e-01,  5.00203967e-01,\n",
       "       -5.55631891e-02, -4.66831982e-01,  9.86265898e-01,  4.05288264e-02,\n",
       "        3.87344122e-01,  7.91335285e-01,  7.57308006e-02,  7.36590862e-01,\n",
       "       -6.94127202e-01, -1.01341367e+00, -1.39908743e+00,  4.58554149e-01,\n",
       "        2.41123021e-01,  1.51830256e+00,  6.02034986e-01, -6.71067163e-02,\n",
       "       -2.31743082e-01,  2.93114454e-01, -7.00670630e-02, -7.22175121e-01,\n",
       "       -1.34386718e-01, -5.96812308e-01, -3.89834940e-01,  8.89299989e-01,\n",
       "        4.19876933e-01, -6.50549412e-01, -2.25567877e-01, -5.40565193e-01,\n",
       "        6.45471036e-01,  1.81487298e+00,  2.95867175e-01,  8.80503178e-01,\n",
       "       -6.43304139e-02,  8.35103750e-01,  5.09364009e-01, -2.99046576e-01,\n",
       "       -1.09810531e-01,  4.26205814e-01,  4.16029394e-02,  1.26810837e+00,\n",
       "        2.31855348e-01,  1.77352145e-01, -1.95360258e-01,  2.96924785e-02,\n",
       "       -4.66473252e-01, -4.05613303e-01, -9.43501711e-01,  3.79952192e-01,\n",
       "       -1.10744810e+00, -1.25256574e+00,  3.17244858e-01, -5.18166244e-01,\n",
       "       -9.58078146e-01,  4.31429058e-01,  1.96887195e-01,  5.47587454e-01,\n",
       "       -2.99098492e-01,  7.03724980e-01,  9.61453795e-01, -1.04354000e+00,\n",
       "       -2.44356245e-01,  9.74272251e-01,  2.90700048e-01,  9.30179358e-02,\n",
       "        6.85254216e-01,  5.17111242e-01, -3.55317891e-01, -3.78195047e-02,\n",
       "        5.21866024e-01, -1.31891787e+00,  6.75146356e-02, -5.39538443e-01,\n",
       "       -6.51782006e-02, -5.53829372e-01,  3.29746962e-01,  5.56926608e-01,\n",
       "       -1.08767562e-01, -4.87745792e-01,  1.08115070e-01,  1.35004032e+00,\n",
       "       -2.48156190e-01,  1.02222532e-01, -7.62972593e-01,  3.96451712e-01,\n",
       "        2.83899426e-01, -6.11245632e-05,  5.99446356e-01, -2.28191733e-01,\n",
       "        3.82186621e-01, -4.83094037e-01,  7.99994826e-01,  6.74024224e-02,\n",
       "        4.75010037e-01, -6.05793118e-01, -3.34577374e-02,  2.79467136e-01,\n",
       "        4.62620482e-02, -4.43934590e-01,  5.39021373e-01,  7.25175917e-01,\n",
       "        3.04003917e-02,  5.42636216e-01,  1.40777802e+00, -4.06347513e-01,\n",
       "        2.03302018e-02,  1.10496320e-01,  1.59290701e-01,  2.32223690e-01,\n",
       "        3.42005640e-01, -1.12587726e+00, -1.64532349e-01, -7.69333482e-01,\n",
       "       -7.77917147e-01,  9.60525274e-01, -2.21712798e-01,  2.04795495e-01,\n",
       "        3.07594240e-01, -8.94482434e-03,  6.64609432e-01,  2.74636626e-01,\n",
       "       -1.38814732e-01,  2.77512521e-03,  9.42145437e-02,  1.39982104e-02,\n",
       "        1.17438510e-02, -7.01433122e-01,  9.55229253e-02,  6.65360987e-02,\n",
       "       -2.53587395e-01, -2.40782142e-01, -7.81716168e-01, -1.04064107e+00,\n",
       "        9.50527668e-01, -4.07707334e-01, -5.30083597e-01, -1.61483482e-01,\n",
       "       -5.67447603e-01,  1.98077440e-01, -1.47963393e+00, -2.48416722e-01,\n",
       "        6.29707038e-01, -1.91818923e-03,  5.44675827e-01, -1.38377368e-01,\n",
       "       -8.55603814e-01, -1.60563692e-01,  5.98006584e-02, -3.99940491e-01,\n",
       "       -3.66699755e-01,  2.77932771e-02,  1.61491644e+00,  8.94826829e-01,\n",
       "       -9.84659433e-01,  1.29569268e+00, -3.55942547e-01,  1.45692490e-02,\n",
       "       -1.65673047e-01,  6.70304179e-01, -5.60165823e-01,  1.24874368e-01,\n",
       "       -9.95733812e-02, -1.11788249e+00, -1.69220164e-01, -3.92812610e-01,\n",
       "        1.55946761e-01, -6.32754713e-02, -1.70041293e-01, -5.76280579e-02,\n",
       "        7.04368830e-01, -2.30777323e-01, -1.50540113e+00,  4.70309593e-02,\n",
       "        8.10140550e-01,  5.55764914e-01,  1.04879463e+00, -4.54914033e-01,\n",
       "       -7.65816927e-01,  3.21121037e-01,  5.39963722e-01, -1.42244250e-03,\n",
       "       -6.46245599e-01, -7.67050385e-01, -4.86318052e-01,  2.18644619e-01,\n",
       "       -1.45325553e+00, -1.20886278e+00,  4.46632385e-01,  3.15670431e-01,\n",
       "       -9.14443135e-01,  1.13474846e+00,  1.40377665e+00, -1.26214609e-01,\n",
       "        2.57220328e-01,  1.97270751e-01,  5.42689204e-01, -1.16772187e+00,\n",
       "        3.11062373e-02, -3.84906709e-01,  7.05022752e-01, -3.19990039e-01,\n",
       "        4.14276361e-01, -2.53224432e-01,  5.94567418e-01, -2.80498832e-01,\n",
       "        6.20734751e-01,  3.42925370e-01,  5.52006423e-01,  3.74120921e-01,\n",
       "       -2.07787305e-02, -2.94504136e-01, -2.80224904e-02,  4.54642564e-01,\n",
       "        1.72949247e-02, -3.96411180e-01, -2.78370529e-01,  3.74548972e-01,\n",
       "        7.10278869e-01,  5.01477063e-01, -7.64415145e-01,  6.93473101e-01,\n",
       "       -2.31806338e-01, -1.70539826e-01, -1.89221770e-01,  1.15061080e+00,\n",
       "       -4.97701228e-01,  3.44713867e-01,  7.89257661e-02,  7.35354662e-01,\n",
       "       -1.65342474e+00,  1.56883955e-01, -3.42402101e-01, -2.41453767e-01,\n",
       "        1.22805285e+00,  9.05580595e-02, -8.45804572e-01, -4.91867483e-01,\n",
       "        4.09116864e-01,  3.10318861e-02, -1.01691425e+00,  7.91973889e-01,\n",
       "        4.66914512e-02,  2.09267125e-01,  2.86085188e-01, -3.78884584e-01,\n",
       "        1.87876314e-01,  5.52990675e-01,  5.50339282e-01, -1.83270529e-01,\n",
       "        3.51552963e-02,  7.31251717e-01,  5.72390914e-01,  6.51701629e-01,\n",
       "        1.71517193e-01,  3.10169756e-01,  6.37891173e-01,  5.16905427e-01,\n",
       "        2.57840455e-01, -5.74196637e-01,  5.45663178e-01,  1.43175513e-01,\n",
       "       -6.49659216e-01, -5.01291931e-01, -3.20235193e-01, -8.09303164e-01,\n",
       "        1.85386014e+00,  4.56168175e-01, -1.34646010e+00, -1.09961081e+00,\n",
       "       -9.49606478e-01, -5.59243500e-01, -2.20324650e-01,  6.67380869e-01,\n",
       "       -8.06698620e-01, -7.50353813e-01,  4.27863568e-01, -1.81265362e-03,\n",
       "       -4.99975502e-01, -2.08163425e-01,  1.03687716e+00,  1.03167391e+00,\n",
       "       -1.13708544e+00, -4.23463911e-01, -6.35305882e-01,  1.84730828e-01,\n",
       "       -4.57372338e-01,  6.99157357e-01,  6.96681216e-02, -5.44989228e-01,\n",
       "       -1.86637759e-01,  3.32052380e-01, -4.01585102e-01,  5.83902240e-01,\n",
       "       -3.08486849e-01, -1.95133626e-01, -4.77832675e-01, -1.04729757e-01,\n",
       "       -1.24169254e+00, -7.67392576e-01,  1.11309119e-01, -5.05293965e-01,\n",
       "        8.97281170e-02,  9.65209186e-01, -2.92705327e-01,  2.37835959e-01,\n",
       "        6.53154969e-01, -5.63034654e-01, -4.07945037e-01,  1.48305833e-01,\n",
       "       -2.53897548e-01,  2.85582356e-02, -1.19707263e+00,  7.05296040e-01,\n",
       "        5.21255545e-02,  1.36536926e-01,  1.11382075e-01, -7.68990815e-01,\n",
       "        1.01710355e+00,  2.17023194e-01, -7.21915066e-01, -4.74247694e-01,\n",
       "        5.23493826e-01, -5.69041669e-01,  4.72191393e-01,  3.32067162e-02,\n",
       "       -5.71064353e-02, -3.82467210e-01, -7.13144720e-01,  7.98465490e-01,\n",
       "        1.31463140e-01,  1.28426671e+00, -1.76970363e-01, -4.69903499e-01,\n",
       "       -1.07145786e+00, -1.38828173e-01,  5.88228106e-02, -1.51748747e-01,\n",
       "       -4.31562722e-01, -5.56289911e-01,  5.86160600e-01, -2.74814129e-01,\n",
       "       -4.44576740e-01, -7.19253540e-01,  1.86751986e+00,  3.35751146e-01,\n",
       "       -4.17200267e-01, -1.84609760e-02, -5.42298734e-01,  1.03850806e+00,\n",
       "        1.16320014e+00, -1.65775359e-01,  1.06681008e-02, -5.21826744e-01,\n",
       "       -3.94162461e-02, -4.33444262e-01, -2.12205395e-01, -6.69661283e-01,\n",
       "        1.13878512e+00, -6.99830770e-01, -3.42058301e-01,  1.87045708e-02,\n",
       "       -3.60665321e-01,  3.75283480e-01, -7.73739755e-01,  1.05950940e+00,\n",
       "        5.09431720e-01, -5.12484014e-01, -1.36402547e+00, -4.32370245e-01,\n",
       "        1.10580873e+00,  4.80577081e-01, -5.62775612e-01,  2.06248716e-01,\n",
       "       -7.12247670e-01, -1.07942986e+00,  5.74471712e-01,  3.77402127e-01,\n",
       "        2.26053268e-01, -2.36591309e-01,  8.89986455e-02, -2.11680919e-01,\n",
       "        4.39211756e-01, -3.77582043e-01,  4.40573320e-02,  4.67505217e-01,\n",
       "       -1.94192350e-01, -3.22813511e-01, -2.91004568e-01,  3.61694634e-01,\n",
       "       -3.97609502e-01,  2.95517117e-01,  9.65152740e-01,  2.08021253e-01,\n",
       "       -6.81564510e-01, -1.88502014e-01, -1.05669737e+00,  1.11901477e-01,\n",
       "        4.28745061e-01, -3.25425863e-01,  7.51156330e-01,  8.09632763e-02,\n",
       "        2.88071066e-01,  1.25049317e+00,  4.19893920e-01,  7.09722281e-01,\n",
       "       -2.60558546e-01, -3.14022414e-02,  7.94317126e-01, -4.00836468e-02,\n",
       "        9.34768021e-01,  7.32218266e-01,  1.54112563e-01, -2.79964507e-03,\n",
       "        1.34429693e-01,  1.18894887e+00,  8.06363761e-01,  4.11553591e-01,\n",
       "       -4.06352609e-01, -4.90519136e-01,  6.39777035e-02, -6.61482453e-01,\n",
       "        1.25500321e-01,  3.48417491e-01,  4.72069979e-01, -7.97111511e-01,\n",
       "        5.51588573e-02,  3.85287017e-01,  7.88548663e-02, -5.99111497e-01,\n",
       "       -1.87589869e-01,  4.47741836e-01,  2.68882632e-01, -9.42823470e-01,\n",
       "        4.27182794e-01,  6.45012185e-02, -5.35005927e-01, -1.28978550e+00,\n",
       "       -8.68739426e-01, -5.98339662e-02, -1.74414307e-01,  3.98950964e-01,\n",
       "       -1.55963063e-01,  3.78477603e-01, -3.33658427e-01, -2.29273327e-02,\n",
       "        6.81618094e-01, -6.39521480e-02,  2.19841495e-01, -1.30441928e+00,\n",
       "        1.30538702e-01, -4.31517839e-01,  1.16446458e-01, -5.44696450e-01,\n",
       "        2.62654960e-01,  1.16084003e+00, -9.65688825e-01, -2.13640928e-01,\n",
       "        1.25079542e-01, -4.46813613e-01, -6.60715461e-01, -1.03458911e-01,\n",
       "       -7.32495546e-01, -3.70514363e-01, -1.71716630e+00,  3.06250602e-01,\n",
       "        2.40370303e-01, -2.78696895e-01,  2.50363410e-01, -2.16073841e-01,\n",
       "        3.63878936e-01,  7.20030487e-01,  1.79541543e-01, -2.45824486e-01,\n",
       "       -2.80887187e-01, -2.31183767e-01,  3.96154255e-01, -3.91271561e-01,\n",
       "       -5.39468467e-01,  1.55264691e-01, -9.46966827e-01,  7.94302002e-02,\n",
       "        9.87770379e-01, -8.50912213e-01, -2.76998669e-01,  5.56401610e-01,\n",
       "        1.60294250e-02,  1.05634522e+00, -4.44355309e-01,  1.07950978e-02,\n",
       "        2.78360814e-01,  1.20354451e-01, -1.67231441e-01,  1.11322439e+00,\n",
       "       -1.96744233e-01, -5.75277865e-01, -6.00104392e-01, -4.72271562e-01,\n",
       "       -3.27002645e-01,  2.18219995e+00,  9.80461478e-01,  2.95367002e-01,\n",
       "        1.33403516e+00, -8.48598123e-01, -4.29084957e-01, -7.42790103e-01,\n",
       "       -1.21369332e-01, -2.04983383e-01, -2.84851551e-01,  1.11932278e-01,\n",
       "       -3.23490649e-01, -8.26627851e-01, -9.87733528e-03, -1.87317654e-03,\n",
       "       -2.71204084e-01,  9.99773502e-01,  4.41762507e-01, -9.80859995e-03,\n",
       "        5.24102390e-01, -5.06498575e-01,  2.07674623e-01, -1.20541489e+00,\n",
       "       -8.46543491e-01,  9.74155664e-01,  2.91643798e-01,  1.50433540e-01,\n",
       "       -2.73951620e-01,  2.13679463e-01, -1.23789057e-01,  6.25244081e-01,\n",
       "       -7.35746622e-01, -6.41057312e-01,  1.04968578e-01,  2.59502769e-01,\n",
       "        5.96801758e-01, -3.09039652e-01, -1.47589669e-03, -1.72204629e-01,\n",
       "        4.99850452e-01,  1.01214767e+00,  4.69430864e-01,  4.81295943e-01,\n",
       "        4.39621031e-01, -5.58371842e-03, -4.59479928e-01,  3.52294594e-01,\n",
       "       -8.86596799e-01,  2.46578492e-02, -3.54804069e-01,  2.24847957e-01,\n",
       "        8.16961080e-02, -8.12928796e-01,  3.36017460e-01, -6.34643555e-01,\n",
       "        4.50730026e-01, -7.08340049e-01, -2.73823351e-01, -2.74163574e-01,\n",
       "       -4.13077831e-01,  1.15509856e+00, -3.25028360e-01, -1.19907069e+00,\n",
       "        3.23284715e-01,  2.53407061e-01,  1.76670089e-01, -7.52295017e-01,\n",
       "       -1.40845366e-02, -4.64905314e-02, -4.08822477e-01, -4.48123589e-02,\n",
       "       -7.17404306e-01,  1.33387923e+00, -4.72844481e-01,  3.93196613e-01,\n",
       "       -5.53456306e-01, -2.19613671e-01, -6.36493325e-01,  4.07763273e-01,\n",
       "       -1.07386184e+00, -7.63388216e-01, -2.00476319e-01,  1.43347308e-01,\n",
       "        4.20394003e-01,  5.08829236e-01, -2.62216151e-01, -9.43300843e-01,\n",
       "        1.94850609e-01,  5.71776390e-01,  7.43693173e-01, -4.75513160e-01,\n",
       "        2.92170793e-01, -2.84215033e-01,  1.86479822e-01,  4.42690074e-01,\n",
       "        1.38985086e-02,  3.19426000e-01, -3.29304725e-01, -6.51208878e-01,\n",
       "        1.75629750e-01, -2.69815564e-01,  4.91458416e-01, -9.61319208e-02,\n",
       "       -3.94757450e-01, -1.09171546e+00, -4.21955615e-01,  1.27798185e-01,\n",
       "       -3.04238737e-01, -1.90791026e-01,  1.30439734e+00, -7.66633272e-01,\n",
       "       -1.15101433e+00, -1.60316542e-01,  1.70454562e-01,  3.07339728e-01,\n",
       "        1.12488091e+00,  6.26276314e-01, -2.50259161e-01,  2.35244751e-01,\n",
       "        3.62194180e-01, -2.49171779e-01, -4.62387770e-01, -1.92467541e-01,\n",
       "       -2.30860680e-01, -3.79391164e-01, -6.50592029e-01,  1.23544633e-01],\n",
       "      dtype=float32)"
      ]
     },
     "execution_count": 820,
     "metadata": {},
     "output_type": "execute_result"
    }
   ],
   "source": [
    "test_enc[0]"
   ]
  },
  {
   "cell_type": "code",
   "execution_count": 543,
   "metadata": {},
   "outputs": [],
   "source": [
    "from sklearn.model_selection import train_test_split\n",
    "from sklearn.ensemble import RandomForestClassifier\n",
    "from sklearn.ensemble import GradientBoostingClassifier\n",
    "from sklearn.metrics import precision_recall_fscore_support\n",
    "from sklearn.metrics import classification_report\n",
    "from sklearn import metrics"
   ]
  },
  {
   "cell_type": "code",
   "execution_count": 22,
   "metadata": {},
   "outputs": [],
   "source": [
    "train_label = train_df[\"KE\"]"
   ]
  },
  {
   "cell_type": "code",
   "execution_count": 70,
   "metadata": {},
   "outputs": [],
   "source": []
  },
  {
   "cell_type": "code",
   "execution_count": 209,
   "metadata": {},
   "outputs": [],
   "source": [
    "X_train, X_test, y_train, y_test = train_test_split(\n",
    "    train_enc, train_label, test_size=0.3, random_state=int(time()),stratify=train_label)"
   ]
  },
  {
   "cell_type": "code",
   "execution_count": 210,
   "metadata": {},
   "outputs": [
    {
     "name": "stderr",
     "output_type": "stream",
     "text": [
      "[Parallel(n_jobs=1)]: Using backend SequentialBackend with 1 concurrent workers.\n",
      "[Parallel(n_jobs=1)]: Done  32 out of  32 | elapsed:    0.1s finished\n"
     ]
    },
    {
     "data": {
      "text/plain": [
       "RandomForestClassifier(bootstrap=True, class_weight=None, criterion='gini',\n",
       "                       max_depth=8, max_features='auto', max_leaf_nodes=None,\n",
       "                       min_impurity_decrease=0.0, min_impurity_split=None,\n",
       "                       min_samples_leaf=1, min_samples_split=2,\n",
       "                       min_weight_fraction_leaf=0.0, n_estimators=32,\n",
       "                       n_jobs=None, oob_score=False, random_state=0, verbose=1,\n",
       "                       warm_start=False)"
      ]
     },
     "execution_count": 210,
     "metadata": {},
     "output_type": "execute_result"
    }
   ],
   "source": [
    "clf = RandomForestClassifier(max_depth=8, n_estimators = 32, random_state=0, verbose=1)\n",
    "clf.fit(X_train, y_train)"
   ]
  },
  {
   "cell_type": "code",
   "execution_count": 211,
   "metadata": {},
   "outputs": [
    {
     "name": "stderr",
     "output_type": "stream",
     "text": [
      "[Parallel(n_jobs=1)]: Using backend SequentialBackend with 1 concurrent workers.\n",
      "[Parallel(n_jobs=1)]: Done  32 out of  32 | elapsed:    0.0s finished\n",
      "[Parallel(n_jobs=1)]: Using backend SequentialBackend with 1 concurrent workers.\n",
      "[Parallel(n_jobs=1)]: Done  32 out of  32 | elapsed:    0.0s finished\n"
     ]
    }
   ],
   "source": [
    "y_pred = clf.predict(X_test)\n",
    "y_proba = [x[1] for x in clf.predict_proba(X_test)]"
   ]
  },
  {
   "cell_type": "code",
   "execution_count": 212,
   "metadata": {},
   "outputs": [
    {
     "name": "stdout",
     "output_type": "stream",
     "text": [
      "              precision    recall  f1-score   support\n",
      "\n",
      "           0       0.74      0.97      0.84        35\n",
      "           1       0.88      0.37      0.52        19\n",
      "\n",
      "    accuracy                           0.76        54\n",
      "   macro avg       0.81      0.67      0.68        54\n",
      "weighted avg       0.79      0.76      0.73        54\n",
      "\n"
     ]
    }
   ],
   "source": [
    "print(classification_report(y_test.values, y_pred))"
   ]
  },
  {
   "cell_type": "code",
   "execution_count": 213,
   "metadata": {},
   "outputs": [
    {
     "data": {
      "text/plain": [
       "0.906766917293233"
      ]
     },
     "execution_count": 213,
     "metadata": {},
     "output_type": "execute_result"
    }
   ],
   "source": [
    "fpr, tpr, thresholds = metrics.roc_curve(y_test.values, y_proba)\n",
    "metrics.auc(fpr, tpr)"
   ]
  },
  {
   "cell_type": "code",
   "execution_count": null,
   "metadata": {},
   "outputs": [],
   "source": []
  },
  {
   "cell_type": "code",
   "execution_count": 374,
   "metadata": {},
   "outputs": [
    {
     "name": "stderr",
     "output_type": "stream",
     "text": [
      "100%|██████████| 500/500 [00:26<00:00, 19.09it/s]\n"
     ]
    }
   ],
   "source": [
    "auc = []\n",
    "for i in tqdm(range(500)):\n",
    "    X_train, X_test, y_train, y_test = train_test_split(\n",
    "    train_enc, train_label, test_size=0.3, random_state=int(time()),stratify=train_label)\n",
    "    clf = RandomForestClassifier(max_depth=4, n_estimators = 32, random_state=0, verbose=0)\n",
    "    clf.fit(X_train, y_train)\n",
    "    y_pred = clf.predict(X_test)\n",
    "    y_proba = [x[1] for x in clf.predict_proba(X_test)]\n",
    "    fpr, tpr, thresholds = metrics.roc_curve(y_test.values, y_proba)\n",
    "    auc.append(metrics.auc(fpr, tpr))\n",
    "    sleep((1/(1 + np.exp(-int(time())%100))))"
   ]
  },
  {
   "cell_type": "code",
   "execution_count": 375,
   "metadata": {},
   "outputs": [
    {
     "data": {
      "text/plain": [
       "0.8881675143741707"
      ]
     },
     "execution_count": 375,
     "metadata": {},
     "output_type": "execute_result"
    }
   ],
   "source": [
    "np.mean(auc)"
   ]
  },
  {
   "cell_type": "code",
   "execution_count": 376,
   "metadata": {},
   "outputs": [
    {
     "data": {
      "text/plain": [
       "0.8117647058823529"
      ]
     },
     "execution_count": 376,
     "metadata": {},
     "output_type": "execute_result"
    }
   ],
   "source": [
    "np.min(auc)"
   ]
  },
  {
   "cell_type": "code",
   "execution_count": 377,
   "metadata": {},
   "outputs": [
    {
     "data": {
      "text/plain": [
       "0.9533834586466166"
      ]
     },
     "execution_count": 377,
     "metadata": {},
     "output_type": "execute_result"
    }
   ],
   "source": [
    "np.max(auc)"
   ]
  },
  {
   "cell_type": "code",
   "execution_count": null,
   "metadata": {},
   "outputs": [],
   "source": []
  },
  {
   "cell_type": "code",
   "execution_count": null,
   "metadata": {},
   "outputs": [],
   "source": []
  },
  {
   "cell_type": "code",
   "execution_count": null,
   "metadata": {},
   "outputs": [],
   "source": []
  },
  {
   "cell_type": "code",
   "execution_count": 788,
   "metadata": {},
   "outputs": [
    {
     "name": "stderr",
     "output_type": "stream",
     "text": [
      "[Parallel(n_jobs=1)]: Using backend SequentialBackend with 1 concurrent workers.\n",
      "[Parallel(n_jobs=1)]: Done 512 out of 512 | elapsed:    0.8s finished\n"
     ]
    },
    {
     "data": {
      "text/plain": [
       "RandomForestClassifier(bootstrap=True, class_weight='balanced',\n",
       "                       criterion='gini', max_depth=8, max_features='auto',\n",
       "                       max_leaf_nodes=None, min_impurity_decrease=0.0,\n",
       "                       min_impurity_split=None, min_samples_leaf=1,\n",
       "                       min_samples_split=2, min_weight_fraction_leaf=0.0,\n",
       "                       n_estimators=512, n_jobs=None, oob_score=False,\n",
       "                       random_state=0, verbose=1, warm_start=False)"
      ]
     },
     "execution_count": 788,
     "metadata": {},
     "output_type": "execute_result"
    }
   ],
   "source": [
    "clf = RandomForestClassifier(max_depth=8, n_estimators = 512, random_state=0, verbose=1, class_weight=\"balanced\")\n",
    "clf.fit(train_enc, train_label)\n"
   ]
  },
  {
   "cell_type": "code",
   "execution_count": 724,
   "metadata": {},
   "outputs": [
    {
     "data": {
      "text/plain": [
       "LGBMClassifier(boosting_type='gbdt', class_weight={0: 1, 1: 1},\n",
       "               colsample_bytree=1.0, importance_type='split', learning_rate=0.1,\n",
       "               max_depth=-1, min_child_samples=20, min_child_weight=0.001,\n",
       "               min_split_gain=0.0, n_estimators=256, n_jobs=-1, num_leaves=32,\n",
       "               objective=None, random_state=None, reg_alpha=2, reg_lambda=0.0,\n",
       "               silent=True, subsample=1.0, subsample_for_bin=200000,\n",
       "               subsample_freq=0)"
      ]
     },
     "execution_count": 724,
     "metadata": {},
     "output_type": "execute_result"
    }
   ],
   "source": [
    "from lightgbm import LGBMClassifier\n",
    "model = LGBMClassifier(boosting_type=\"gbdt\",n_estimators=256, class_weight={1:1,0:1}, num_leaves=32,  max_depth=-1,learning_rate=.1,\\\n",
    "                      reg_alpha=2)\n",
    "model.fit(train_enc,train_label)\n"
   ]
  },
  {
   "cell_type": "code",
   "execution_count": null,
   "metadata": {},
   "outputs": [],
   "source": []
  },
  {
   "cell_type": "code",
   "execution_count": null,
   "metadata": {},
   "outputs": [],
   "source": []
  },
  {
   "cell_type": "code",
   "execution_count": null,
   "metadata": {},
   "outputs": [],
   "source": []
  },
  {
   "cell_type": "code",
   "execution_count": null,
   "metadata": {},
   "outputs": [],
   "source": []
  },
  {
   "cell_type": "code",
   "execution_count": null,
   "metadata": {},
   "outputs": [],
   "source": []
  },
  {
   "cell_type": "code",
   "execution_count": 225,
   "metadata": {},
   "outputs": [
    {
     "data": {
      "text/html": [
       "<div>\n",
       "<style scoped>\n",
       "    .dataframe tbody tr th:only-of-type {\n",
       "        vertical-align: middle;\n",
       "    }\n",
       "\n",
       "    .dataframe tbody tr th {\n",
       "        vertical-align: top;\n",
       "    }\n",
       "\n",
       "    .dataframe thead th {\n",
       "        text-align: right;\n",
       "    }\n",
       "</style>\n",
       "<table border=\"1\" class=\"dataframe\">\n",
       "  <thead>\n",
       "    <tr style=\"text-align: right;\">\n",
       "      <th></th>\n",
       "      <th>Question</th>\n",
       "      <th>KE Question</th>\n",
       "      <th>DF_Is_KE_Question</th>\n",
       "      <th>KE</th>\n",
       "    </tr>\n",
       "  </thead>\n",
       "  <tbody>\n",
       "    <tr>\n",
       "      <th>0</th>\n",
       "      <td>direct deposit</td>\n",
       "      <td>False</td>\n",
       "      <td>False</td>\n",
       "      <td>0</td>\n",
       "    </tr>\n",
       "    <tr>\n",
       "      <th>1</th>\n",
       "      <td>agi</td>\n",
       "      <td>False</td>\n",
       "      <td>False</td>\n",
       "      <td>0</td>\n",
       "    </tr>\n",
       "    <tr>\n",
       "      <th>2</th>\n",
       "      <td>both</td>\n",
       "      <td>False</td>\n",
       "      <td>False</td>\n",
       "      <td>0</td>\n",
       "    </tr>\n",
       "    <tr>\n",
       "      <th>3</th>\n",
       "      <td>schedule c</td>\n",
       "      <td>False</td>\n",
       "      <td>False</td>\n",
       "      <td>0</td>\n",
       "    </tr>\n",
       "    <tr>\n",
       "      <th>4</th>\n",
       "      <td>no</td>\n",
       "      <td>False</td>\n",
       "      <td>False</td>\n",
       "      <td>0</td>\n",
       "    </tr>\n",
       "    <tr>\n",
       "      <th>...</th>\n",
       "      <td>...</td>\n",
       "      <td>...</td>\n",
       "      <td>...</td>\n",
       "      <td>...</td>\n",
       "    </tr>\n",
       "    <tr>\n",
       "      <th>995</th>\n",
       "      <td>Do I have to pay city tax to the city of my co...</td>\n",
       "      <td>False</td>\n",
       "      <td>False</td>\n",
       "      <td>0</td>\n",
       "    </tr>\n",
       "    <tr>\n",
       "      <th>996</th>\n",
       "      <td>How can I tell if my property taxes were filed?</td>\n",
       "      <td>False</td>\n",
       "      <td>False</td>\n",
       "      <td>0</td>\n",
       "    </tr>\n",
       "    <tr>\n",
       "      <th>997</th>\n",
       "      <td>I am responsible for paying for my own expense...</td>\n",
       "      <td>True</td>\n",
       "      <td>False</td>\n",
       "      <td>1</td>\n",
       "    </tr>\n",
       "    <tr>\n",
       "      <th>998</th>\n",
       "      <td>how did you compute my deductible donations</td>\n",
       "      <td>True</td>\n",
       "      <td>True</td>\n",
       "      <td>1</td>\n",
       "    </tr>\n",
       "    <tr>\n",
       "      <th>999</th>\n",
       "      <td>How do I make TurboTax update the dependent cr...</td>\n",
       "      <td>False</td>\n",
       "      <td>False</td>\n",
       "      <td>0</td>\n",
       "    </tr>\n",
       "  </tbody>\n",
       "</table>\n",
       "<p>1000 rows × 4 columns</p>\n",
       "</div>"
      ],
      "text/plain": [
       "                                              Question KE Question  \\\n",
       "0                                       direct deposit       False   \n",
       "1                                                  agi       False   \n",
       "2                                                 both       False   \n",
       "3                                           schedule c       False   \n",
       "4                                                   no       False   \n",
       "..                                                 ...         ...   \n",
       "995  Do I have to pay city tax to the city of my co...       False   \n",
       "996    How can I tell if my property taxes were filed?       False   \n",
       "997  I am responsible for paying for my own expense...        True   \n",
       "998        how did you compute my deductible donations        True   \n",
       "999  How do I make TurboTax update the dependent cr...       False   \n",
       "\n",
       "     DF_Is_KE_Question  KE  \n",
       "0                False   0  \n",
       "1                False   0  \n",
       "2                False   0  \n",
       "3                False   0  \n",
       "4                False   0  \n",
       "..                 ...  ..  \n",
       "995              False   0  \n",
       "996              False   0  \n",
       "997              False   1  \n",
       "998               True   1  \n",
       "999              False   0  \n",
       "\n",
       "[1000 rows x 4 columns]"
      ]
     },
     "execution_count": 225,
     "metadata": {},
     "output_type": "execute_result"
    }
   ],
   "source": [
    "gtd"
   ]
  },
  {
   "cell_type": "code",
   "execution_count": 226,
   "metadata": {},
   "outputs": [],
   "source": [
    "gtd[\"KE\"] = gtd[\"KE Question\"].apply(lambda x: 0 if x == False else 1)"
   ]
  },
  {
   "cell_type": "code",
   "execution_count": 227,
   "metadata": {},
   "outputs": [],
   "source": [
    "gtd_true = gtd[\"KE\"]"
   ]
  },
  {
   "cell_type": "code",
   "execution_count": 228,
   "metadata": {},
   "outputs": [],
   "source": [
    "gtd_ques = gtd[\"Question\"]\n"
   ]
  },
  {
   "cell_type": "code",
   "execution_count": 229,
   "metadata": {},
   "outputs": [
    {
     "name": "stderr",
     "output_type": "stream",
     "text": [
      "Batches: 100%|██████████| 125/125 [00:04<00:00, 26.28it/s]\n"
     ]
    }
   ],
   "source": [
    "gtd_ques_enc = dbert.encode(gtd_ques.apply(lambda x: putPlaceHolder(x.lower())).astype(str).tolist(), batch_size = 8, show_progress_bar=True)"
   ]
  },
  {
   "cell_type": "code",
   "execution_count": 805,
   "metadata": {},
   "outputs": [
    {
     "name": "stderr",
     "output_type": "stream",
     "text": [
      "[Parallel(n_jobs=1)]: Using backend SequentialBackend with 1 concurrent workers.\n",
      "[Parallel(n_jobs=1)]: Done 512 out of 512 | elapsed:    0.1s finished\n"
     ]
    }
   ],
   "source": [
    "gtd_proba= [x[1] for x in clf.predict_proba(gtd_ques_enc)]"
   ]
  },
  {
   "cell_type": "code",
   "execution_count": 781,
   "metadata": {},
   "outputs": [
    {
     "name": "stderr",
     "output_type": "stream",
     "text": [
      "[Parallel(n_jobs=1)]: Using backend SequentialBackend with 1 concurrent workers.\n",
      "[Parallel(n_jobs=1)]: Done 512 out of 512 | elapsed:    0.1s finished\n"
     ]
    }
   ],
   "source": [
    "# gtd_proba= [(x[0][1]+x[1][1])/2 for x in zip(clf.predict_proba(gtd_ques_enc),model.predict_proba(gtd_ques_enc))]"
   ]
  },
  {
   "cell_type": "code",
   "execution_count": 790,
   "metadata": {},
   "outputs": [
    {
     "data": {
      "text/plain": [
       "[0.23790896907106426, 0.10989470233035845, 0.1522450083645507]"
      ]
     },
     "execution_count": 790,
     "metadata": {},
     "output_type": "execute_result"
    }
   ],
   "source": [
    "gtd_proba[:3]"
   ]
  },
  {
   "cell_type": "code",
   "execution_count": 806,
   "metadata": {},
   "outputs": [
    {
     "name": "stdout",
     "output_type": "stream",
     "text": [
      "0.9479847307242588\n"
     ]
    }
   ],
   "source": [
    "fpr, tpr, thresholds = metrics.roc_curve(gtd_true.values, gtd_proba)\n",
    "roc_auc = metrics.auc(fpr, tpr)\n",
    "print(roc_auc)"
   ]
  },
  {
   "cell_type": "code",
   "execution_count": 792,
   "metadata": {},
   "outputs": [
    {
     "data": {
      "image/png": "[encoded data removed]",
      "text/plain": [
       "<Figure size 432x288 with 1 Axes>"
      ]
     },
     "metadata": {
      "needs_background": "light"
     },
     "output_type": "display_data"
    }
   ],
   "source": [
    "import matplotlib.pyplot as plt\n",
    "plt.title('Receiver Operating Characteristic')\n",
    "plt.plot(fpr, tpr, 'b', label = 'AUC = %0.2f' % roc_auc)\n",
    "plt.legend(loc = 'lower right')\n",
    "plt.plot([0, 1], [0, 1],'r--')\n",
    "plt.xlim([0, 1])\n",
    "plt.ylim([0, 1])\n",
    "plt.ylabel('True Positive Rate')\n",
    "plt.xlabel('False Positive Rate')\n",
    "plt.show()"
   ]
  },
  {
   "cell_type": "code",
   "execution_count": 793,
   "metadata": {},
   "outputs": [
    {
     "name": "stderr",
     "output_type": "stream",
     "text": [
      "/Users/abanerjee4/Projects/Deploy/proto_1/abanerjee4/envs/deploy/lib/python3.7/site-packages/sklearn/metrics/classification.py:1437: UndefinedMetricWarning: Precision and F-score are ill-defined and being set to 0.0 in labels with no predicted samples.\n",
      "  'precision', 'predicted', average, warn_for)\n"
     ]
    },
    {
     "data": {
      "text/plain": [
       "<matplotlib.axes._subplots.AxesSubplot at 0x1858f5750>"
      ]
     },
     "execution_count": 793,
     "metadata": {},
     "output_type": "execute_result"
    },
    {
     "data": {
      "image/png": "[encoded data removed]",
      "text/plain": [
       "<Figure size 432x288 with 1 Axes>"
      ]
     },
     "metadata": {
      "needs_background": "light"
     },
     "output_type": "display_data"
    }
   ],
   "source": [
    "prec = []\n",
    "rec = []\n",
    "for perc in range(0,99):\n",
    "    gtd_pred = [1 if x > perc/100.0 else 0 for x in gtd_proba]\n",
    "    rec.append(precision_recall_fscore_support(gtd_true.values, gtd_pred)[1][1])\n",
    "    prec.append(precision_recall_fscore_support(gtd_true.values, gtd_pred)[0][1])\n",
    "\n",
    "pr_df = pd.DataFrame()\n",
    "pr_df[\"recall\"] = rec\n",
    "pr_df[\"precision\"] = prec\n",
    "pr_df.plot(grid=True)"
   ]
  },
  {
   "cell_type": "code",
   "execution_count": 807,
   "metadata": {},
   "outputs": [
    {
     "name": "stdout",
     "output_type": "stream",
     "text": [
      "              precision    recall  f1-score   support\n",
      "\n",
      "           0       0.97      0.99      0.98       938\n",
      "           1       0.78      0.56      0.65        62\n",
      "\n",
      "    accuracy                           0.96      1000\n",
      "   macro avg       0.87      0.78      0.82      1000\n",
      "weighted avg       0.96      0.96      0.96      1000\n",
      "\n"
     ]
    }
   ],
   "source": [
    "gtd_pred = [1 if x > 0.5 else 0 for x in gtd_proba]\n",
    "print(classification_report(gtd_true.values, gtd_pred))"
   ]
  },
  {
   "cell_type": "code",
   "execution_count": null,
   "metadata": {},
   "outputs": [],
   "source": []
  },
  {
   "cell_type": "code",
   "execution_count": 135,
   "metadata": {},
   "outputs": [],
   "source": []
  },
  {
   "cell_type": "code",
   "execution_count": 136,
   "metadata": {},
   "outputs": [],
   "source": []
  },
  {
   "cell_type": "code",
   "execution_count": null,
   "metadata": {},
   "outputs": [],
   "source": []
  },
  {
   "cell_type": "code",
   "execution_count": null,
   "metadata": {},
   "outputs": [],
   "source": []
  },
  {
   "cell_type": "code",
   "execution_count": 251,
   "metadata": {},
   "outputs": [],
   "source": [
    "sp_df = pd.read_csv(\"./data/Splunk_TDA_data_full - CalcQuestions.csv\")"
   ]
  },
  {
   "cell_type": "code",
   "execution_count": 252,
   "metadata": {},
   "outputs": [
    {
     "data": {
      "text/html": [
       "<div>\n",
       "<style scoped>\n",
       "    .dataframe tbody tr th:only-of-type {\n",
       "        vertical-align: middle;\n",
       "    }\n",
       "\n",
       "    .dataframe tbody tr th {\n",
       "        vertical-align: top;\n",
       "    }\n",
       "\n",
       "    .dataframe thead th {\n",
       "        text-align: right;\n",
       "    }\n",
       "</style>\n",
       "<table border=\"1\" class=\"dataframe\">\n",
       "  <thead>\n",
       "    <tr style=\"text-align: right;\">\n",
       "      <th></th>\n",
       "      <th>Question</th>\n",
       "      <th>KE Question</th>\n",
       "    </tr>\n",
       "  </thead>\n",
       "  <tbody>\n",
       "    <tr>\n",
       "      <th>228</th>\n",
       "      <td>\"turbotax isn't calculating my dependencies\"; \\n</td>\n",
       "      <td>False</td>\n",
       "    </tr>\n",
       "    <tr>\n",
       "      <th>47</th>\n",
       "      <td>\"How was my state tax calculated\"; \\n</td>\n",
       "      <td>True</td>\n",
       "    </tr>\n",
       "    <tr>\n",
       "      <th>220</th>\n",
       "      <td>\"The program is not calculating my entries cor...</td>\n",
       "      <td>False</td>\n",
       "    </tr>\n",
       "    <tr>\n",
       "      <th>117</th>\n",
       "      <td>\"how to calculate my premium percentage\"; \\n</td>\n",
       "      <td>True</td>\n",
       "    </tr>\n",
       "    <tr>\n",
       "      <th>115</th>\n",
       "      <td>\"how is tax due calculated\"; \\n</td>\n",
       "      <td>True</td>\n",
       "    </tr>\n",
       "  </tbody>\n",
       "</table>\n",
       "</div>"
      ],
      "text/plain": [
       "                                              Question  KE Question\n",
       "228   \"turbotax isn't calculating my dependencies\"; \\n        False\n",
       "47               \"How was my state tax calculated\"; \\n         True\n",
       "220  \"The program is not calculating my entries cor...        False\n",
       "117       \"how to calculate my premium percentage\"; \\n         True\n",
       "115                    \"how is tax due calculated\"; \\n         True"
      ]
     },
     "execution_count": 252,
     "metadata": {},
     "output_type": "execute_result"
    }
   ],
   "source": [
    "sp_df.sample(5)"
   ]
  },
  {
   "cell_type": "code",
   "execution_count": 253,
   "metadata": {},
   "outputs": [],
   "source": [
    "sp_df[\"KE\"] = sp_df[\"KE Question\"].apply(lambda x: 0 if x == False else 1)"
   ]
  },
  {
   "cell_type": "code",
   "execution_count": 254,
   "metadata": {},
   "outputs": [
    {
     "data": {
      "text/html": [
       "<div>\n",
       "<style scoped>\n",
       "    .dataframe tbody tr th:only-of-type {\n",
       "        vertical-align: middle;\n",
       "    }\n",
       "\n",
       "    .dataframe tbody tr th {\n",
       "        vertical-align: top;\n",
       "    }\n",
       "\n",
       "    .dataframe thead th {\n",
       "        text-align: right;\n",
       "    }\n",
       "</style>\n",
       "<table border=\"1\" class=\"dataframe\">\n",
       "  <thead>\n",
       "    <tr style=\"text-align: right;\">\n",
       "      <th></th>\n",
       "      <th>Question</th>\n",
       "      <th>KE Question</th>\n",
       "      <th>KE</th>\n",
       "    </tr>\n",
       "  </thead>\n",
       "  <tbody>\n",
       "    <tr>\n",
       "      <th>0</th>\n",
       "      <td>\"Turbotax calculated my tax rate wrong\"; \\n</td>\n",
       "      <td>True</td>\n",
       "      <td>1</td>\n",
       "    </tr>\n",
       "    <tr>\n",
       "      <th>1</th>\n",
       "      <td>\"TurboTax calculated my taxes to be &lt;amount&gt; #...</td>\n",
       "      <td>True</td>\n",
       "      <td>1</td>\n",
       "    </tr>\n",
       "    <tr>\n",
       "      <th>2</th>\n",
       "      <td>\"why do we not qualify for Vermont Property Ta...</td>\n",
       "      <td>True</td>\n",
       "      <td>1</td>\n",
       "    </tr>\n",
       "    <tr>\n",
       "      <th>3</th>\n",
       "      <td>\"Why does my summary page list a different amo...</td>\n",
       "      <td>True</td>\n",
       "      <td>1</td>\n",
       "    </tr>\n",
       "    <tr>\n",
       "      <th>4</th>\n",
       "      <td>\"'Total #### Tax Due amount is different than ...</td>\n",
       "      <td>True</td>\n",
       "      <td>1</td>\n",
       "    </tr>\n",
       "  </tbody>\n",
       "</table>\n",
       "</div>"
      ],
      "text/plain": [
       "                                            Question  KE Question  KE\n",
       "0        \"Turbotax calculated my tax rate wrong\"; \\n         True   1\n",
       "1  \"TurboTax calculated my taxes to be <amount> #...         True   1\n",
       "2  \"why do we not qualify for Vermont Property Ta...         True   1\n",
       "3  \"Why does my summary page list a different amo...         True   1\n",
       "4  \"'Total #### Tax Due amount is different than ...         True   1"
      ]
     },
     "execution_count": 254,
     "metadata": {},
     "output_type": "execute_result"
    }
   ],
   "source": [
    "sp_df.head()"
   ]
  },
  {
   "cell_type": "code",
   "execution_count": 255,
   "metadata": {},
   "outputs": [],
   "source": [
    "sp_true = sp_df[\"KE\"]"
   ]
  },
  {
   "cell_type": "code",
   "execution_count": 352,
   "metadata": {},
   "outputs": [
    {
     "name": "stderr",
     "output_type": "stream",
     "text": [
      "Batches: 100%|██████████| 43/43 [00:04<00:00, 10.13it/s]\n"
     ]
    }
   ],
   "source": [
    "sp_enc = dbert.encode(sp_df[\"Question\"].apply(lambda x: putPlaceHolder(x.lower())).astype(str).tolist(), batch_size = 8, show_progress_bar=True)"
   ]
  },
  {
   "cell_type": "code",
   "execution_count": 795,
   "metadata": {},
   "outputs": [
    {
     "name": "stderr",
     "output_type": "stream",
     "text": [
      "[Parallel(n_jobs=1)]: Using backend SequentialBackend with 1 concurrent workers.\n",
      "[Parallel(n_jobs=1)]: Done 512 out of 512 | elapsed:    0.1s finished\n"
     ]
    }
   ],
   "source": [
    "sp_proba= [x[1] for x in clf.predict_proba(sp_enc)]"
   ]
  },
  {
   "cell_type": "code",
   "execution_count": null,
   "metadata": {},
   "outputs": [],
   "source": [
    "# sp_proba= [(x[0][1]+x[1][1])/2 for x in zip(clf.predict_proba(sp_enc),model.predict_proba(sp_enc))]"
   ]
  },
  {
   "cell_type": "code",
   "execution_count": 813,
   "metadata": {},
   "outputs": [
    {
     "name": "stdout",
     "output_type": "stream",
     "text": [
      "              precision    recall  f1-score   support\n",
      "\n",
      "           0       0.70      0.97      0.82       216\n",
      "           1       0.85      0.27      0.41       121\n",
      "\n",
      "    accuracy                           0.72       337\n",
      "   macro avg       0.78      0.62      0.61       337\n",
      "weighted avg       0.76      0.72      0.67       337\n",
      "\n"
     ]
    }
   ],
   "source": [
    "sp_pred = [1 if x > 0.5 else 0 for x in sp_proba]\n",
    "print(classification_report(sp_true.values, sp_pred))"
   ]
  },
  {
   "cell_type": "code",
   "execution_count": 798,
   "metadata": {},
   "outputs": [
    {
     "name": "stdout",
     "output_type": "stream",
     "text": [
      "0.7451025405570859\n"
     ]
    }
   ],
   "source": [
    "fpr, tpr, thresholds = metrics.roc_curve(sp_true.values, sp_proba)\n",
    "roc_auc = metrics.auc(fpr, tpr)\n",
    "print(roc_auc)"
   ]
  },
  {
   "cell_type": "code",
   "execution_count": 814,
   "metadata": {},
   "outputs": [],
   "source": [
    "sp_df[\"pred\"] = sp_pred"
   ]
  },
  {
   "cell_type": "code",
   "execution_count": null,
   "metadata": {},
   "outputs": [],
   "source": []
  },
  {
   "cell_type": "code",
   "execution_count": null,
   "metadata": {},
   "outputs": [],
   "source": []
  },
  {
   "cell_type": "code",
   "execution_count": 515,
   "metadata": {},
   "outputs": [],
   "source": []
  },
  {
   "cell_type": "code",
   "execution_count": 819,
   "metadata": {},
   "outputs": [
    {
     "data": {
      "text/plain": [
       "array(['\"how did you calc my il tax due\"; \\n'], dtype=object)"
      ]
     },
     "execution_count": 819,
     "metadata": {},
     "output_type": "execute_result"
    }
   ],
   "source": [
    "sp_df[(sp_df[\"pred\"] == 0) & (sp_df[\"KE\"] == 1)].sample()[\"Question\"].values"
   ]
  },
  {
   "cell_type": "code",
   "execution_count": 815,
   "metadata": {},
   "outputs": [
    {
     "data": {
      "text/html": [
       "<div>\n",
       "<style scoped>\n",
       "    .dataframe tbody tr th:only-of-type {\n",
       "        vertical-align: middle;\n",
       "    }\n",
       "\n",
       "    .dataframe tbody tr th {\n",
       "        vertical-align: top;\n",
       "    }\n",
       "\n",
       "    .dataframe thead th {\n",
       "        text-align: right;\n",
       "    }\n",
       "</style>\n",
       "<table border=\"1\" class=\"dataframe\">\n",
       "  <thead>\n",
       "    <tr style=\"text-align: right;\">\n",
       "      <th></th>\n",
       "      <th></th>\n",
       "      <th>Question</th>\n",
       "      <th>KE Question</th>\n",
       "    </tr>\n",
       "    <tr>\n",
       "      <th>KE</th>\n",
       "      <th>pred</th>\n",
       "      <th></th>\n",
       "      <th></th>\n",
       "    </tr>\n",
       "  </thead>\n",
       "  <tbody>\n",
       "    <tr>\n",
       "      <th rowspan=\"2\" valign=\"top\">0</th>\n",
       "      <th>0</th>\n",
       "      <td>210</td>\n",
       "      <td>210</td>\n",
       "    </tr>\n",
       "    <tr>\n",
       "      <th>1</th>\n",
       "      <td>6</td>\n",
       "      <td>6</td>\n",
       "    </tr>\n",
       "    <tr>\n",
       "      <th rowspan=\"2\" valign=\"top\">1</th>\n",
       "      <th>0</th>\n",
       "      <td>88</td>\n",
       "      <td>88</td>\n",
       "    </tr>\n",
       "    <tr>\n",
       "      <th>1</th>\n",
       "      <td>33</td>\n",
       "      <td>33</td>\n",
       "    </tr>\n",
       "  </tbody>\n",
       "</table>\n",
       "</div>"
      ],
      "text/plain": [
       "         Question  KE Question\n",
       "KE pred                       \n",
       "0  0          210          210\n",
       "   1            6            6\n",
       "1  0           88           88\n",
       "   1           33           33"
      ]
     },
     "execution_count": 815,
     "metadata": {},
     "output_type": "execute_result"
    }
   ],
   "source": [
    "sp_df.groupby([\"KE\",\"pred\"]).count()"
   ]
  },
  {
   "cell_type": "code",
   "execution_count": null,
   "metadata": {},
   "outputs": [],
   "source": []
  }
 ],
 "metadata": {
  "kernelspec": {
   "display_name": "Python 3",
   "language": "python",
   "name": "python3"
  },
  "language_info": {
   "codemirror_mode": {
    "name": "ipython",
    "version": 3
   },
   "file_extension": ".py",
   "mimetype": "text/x-python",
   "name": "python",
   "nbconvert_exporter": "python",
   "pygments_lexer": "ipython3",
   "version": "3.7.6"
  }
 },
 "nbformat": 4,
 "nbformat_minor": 4
}
